{
 "cells": [
  {
   "cell_type": "markdown",
   "metadata": {},
   "source": [
    "# Cryptanalyse\n",
    "\n",
    "Votre mission, si vous l'acceptez, est de déchiffrer 4 textes de difficulté croissante en vous aidant d'un programme python que vous allez écrire.\n",
    "\n",
    "\n",
    "- Les fichiers ont été cryptés avec des méthodes données en cours.\n",
    "- Les fichiers chiffrés contiennent des textes en ASCII. Une fois déchiffrés ils vous donneront des informations.\n",
    "- Vous devez vous baser sur les fréquences d'apparition des lettres en français (et des paires de lettres) pour casser les codes. Faire une fonction de calcul pour vous aider.\n",
    "- Penser à réutliser le code du td de cryptographie comme base de travail.\n",
    "- Le code de votre programme doit être sur github et vous fournirez un lien vers votre projet github avec le code et le résultat du décodage\n",
    "en le déposant sur Moodle avant le mercredi 12 mai.\n",
    "- Une soutenance sera organisée le 17 mai.\n",
    "\n",
    "\n"
   ]
  },
  {
   "cell_type": "code",
   "execution_count": 253,
   "metadata": {},
   "outputs": [],
   "source": [
    "# TEXTE 1\n",
    "# Cette fonction est celle utilisé en TD, elle permet de chiffrer et dechiffrer les lettres du message avec une clé(une lettre)\n",
    "import tkinter as tk\n",
    "\n",
    "def rang(lettre):\n",
    "    return ord(lettre) - 97\n",
    "\n",
    "\n",
    "def decalage(lettre1, lettre2):\n",
    "    if ord(lettre1) < 97 or ord(lettre1) > 122:\n",
    "        return lettre1\n",
    "    return chr(((rang(lettre1) + rang(lettre2)) % 26) + 97)\n",
    "\n",
    "\n",
    "def dec_texte(texte, cle):\n",
    "    taille_cle = len(cle)\n",
    "    res = \"\"\n",
    "    for i in range(len(texte)):\n",
    "        res += decalage(texte[i], cle[i % taille_cle])\n",
    "    return res\n",
    "\n",
    "\n",
    "def dechiffre():\n",
    "    resultat.delete(0, tk.END)\n",
    "    text = entree_texte.get()\n",
    "    cle = entree_cle.get()\n",
    "    if (len(text) > 0) and (len(cle) > 0):\n",
    "        res = dec_texte(text, cle)\n",
    "        resultat.insert(0, res)\n",
    "    else:\n",
    "        resultat.insert(0, \"Il manque quelque chose\")\n",
    "\n",
    "\n",
    "racine = tk.Tk()\n",
    "racine.title(\"Cryptographie\")\n",
    "\n",
    "entree_texte = tk.Entry(racine, width=50, font=(\"helvetica\", \"20\"))\n",
    "entree_texte.grid(row=0, column=0)\n",
    "\n",
    "entree_cle = tk.Entry(racine, width=50, font=(\"helvetica\", \"20\"))\n",
    "entree_cle.grid(row=1, column=0)\n",
    "\n",
    "label_texte = tk.Label(racine, font=(\"helvetica\", \"20\"), text=\"Entrer le message ici.\")\n",
    "label_texte.grid(row=0, column=1)\n",
    "\n",
    "label_cle = tk.Label(racine, font=(\"helvetica\", \"20\"), text=\"Entrer la clé ici.\")\n",
    "label_cle.grid(row=1, column=1)\n",
    "\n",
    "label_dech = tk.Label(racine, font=(\"helvetica\", \"28\"), text=\"Déchiffre ici\")\n",
    "label_dech.grid(row=3, column=1)\n",
    "\n",
    "bouton_coder = tk.Button(racine, text=\"Déchiffrer texte\", fg=\"black\", width=15, command=dechiffre)\n",
    "bouton_coder.grid(row=2, column=0)\n",
    "\n",
    "resultat = tk.Entry(racine, width=50, font=(\"helvetica\", \"20\"))\n",
    "resultat.grid(row=3, column=0)\n",
    "\n",
    "racine.mainloop()"
   ]
  },
  {
   "cell_type": "code",
   "execution_count": null,
   "metadata": {},
   "outputs": [],
   "source": [
    "# TEXTE 1\n",
    "kd oqnbgzhm ehbghdq ztqz tm bncd ozq rtarshstshnm zkogzadshptd: bgzptd kdssqd drs qdlokzbdd ozq tmd ztsqd. tshkhrdq kz eqdptdmbd cdr kdssqdr ontq cdbncdq kd ldrrzfd.\n",
    "clé : b\n",
    "le prochain fichier aura un code par substitution alphabetique: chaque lettre est remplacee par une autre. utiliser la frequence des lettres pour decoder le message."
   ]
  },
  {
   "cell_type": "code",
   "execution_count": 185,
   "metadata": {},
   "outputs": [],
   "source": [
    "# TEXTE 2\n",
    "# Code qui substitue les lettres d'un texte de la plus frequente à la moins frequente\n",
    "alphabet=[]\n",
    "\n",
    "def alphabet_vide():\n",
    "    \"\"\"Fonction qui renvoie 0.0 de frequence à chaque lettre dans l'alphabet\"\"\"\n",
    "    for i in range(97, 123):\n",
    "        alphabet.append([chr(i), 0.0])\n",
    "\n",
    "def vide():\n",
    "    \"\"\"Fonction qui donne a une lettre une frequence de 0.0 si elle n'apparait pas\"\"\"\n",
    "    for x in alphabet:\n",
    "        x[1] = 0.0\n",
    "\n",
    "alphabet_vide()\n",
    "\n",
    "def nbrOccur(texte):\n",
    "    \"\"\"Fonction qui renvoie la frequence a laquelle apparaissent les lettres dans un texte\"\"\"\n",
    "    vide()\n",
    "    for c in texte:\n",
    "        if 97 <= ord(c) <= 122: #verifier si c'est une lettre\n",
    "            alphabet[ord(c)-97][1] += round(1/len(texte)*100, 3)"
   ]
  },
  {
   "cell_type": "code",
   "execution_count": 186,
   "metadata": {},
   "outputs": [
    {
     "output_type": "stream",
     "name": "stdout",
     "text": [
      "[['a', 0.442], ['b', 0.0], ['c', 4.862000000000001], ['d', 4.862000000000001], ['e', 0.0], ['f', 2.21], ['g', 6.1880000000000015], ['h', 0.0], ['i', 7.514000000000002], ['j', 0.0], ['k', 4.862000000000001], ['l', 1.326], ['m', 0.884], ['n', 4.420000000000001], ['o', 4.420000000000001], ['p', 0.0], ['q', 2.21], ['r', 0.0], ['s', 4.420000000000001], ['t', 0.0], ['u', 7.514000000000002], ['v', 3.5360000000000005], ['w', 1.326], ['x', 15.912000000000004], ['y', 2.652], ['z', 0.0]]\n"
     ]
    }
   ],
   "source": [
    "nbrOccur(\"gx qosvlnkd wkvlkxo xiu vscx qno yd fsu cx qniix cx unkggx kdvsddyx xu vsdukxdu g'kdckvx. gxi gxuuoxi cy fsu cx qniix qxofxuuxdu cx cxvngxo gxi gxuuoxi cy fxiinmx sokmkdng fscygs 26. ixygxi gxi gxuuoxi cx n n a isdu vlkwwoxxi.\")\n",
    "\n",
    "print(alphabet)"
   ]
  },
  {
   "cell_type": "code",
   "execution_count": 217,
   "metadata": {},
   "outputs": [
    {
     "output_type": "stream",
     "name": "stdout",
     "text": [
      "[[15.912000000000004], [7.514000000000002], [7.514000000000002], [6.1880000000000015], [4.862000000000001], [4.862000000000001], [4.862000000000001], [4.420000000000001], [4.420000000000001], [4.420000000000001], [3.5360000000000005], [2.652], [2.21], [2.21], [1.326], [1.326], [0.884], [0.442], [0.0], [0.0], [0.0], [0.0], [0.0], [0.0], [0.0], [0.0]]\n"
     ]
    }
   ],
   "source": [
    "# FONCTIONS QUI RANGE LES LETTRES DE LA PLUS FREQUENTE A LA MOINS FREQUENTE\n",
    "nombres = [[0.442], [0.0], [4.862000000000001], [4.862000000000001], [0.0], [ 2.21], [6.1880000000000015], [ 0.0], [ 7.514000000000002], [ 0.0], [ 4.862000000000001], [ 1.326], [ 0.884], [ 4.420000000000001], [ 4.420000000000001], [ 0.0], [ 2.21], [ 0.0], [ 4.420000000000001], [ 0.0], [7.514000000000002], [ 3.5360000000000005], [ 1.326], [ 15.912000000000004], [ 2.652], [ 0.0]]\n",
    "nombres.sort()\n",
    "nombres.reverse()\n",
    "print(nombres)\n",
    "x u i g c d k s n o v y q f w l m a"
   ]
  },
  {
   "cell_type": "code",
   "execution_count": 187,
   "metadata": {},
   "outputs": [
    {
     "output_type": "stream",
     "name": "stdout",
     "text": [
      "le prochain fichier est code par un mot de passe de taille inconnue et contient l'indice. les lettres du mot de passe permettent de decaler les lettres du message original modulo 26. seules les lettres de a a z sont chiffrees.\n"
     ]
    }
   ],
   "source": [
    "texte = \"gx qosvlnkd wkvlkxo xiu vscx qno yd fsu cx qniix cx unkggx kdvsddyx xu vsdukxdu g'kdckvx. gxi gxuuoxi cy fsu cx qniix qxofxuuxdu cx cxvngxo gxi gxuuoxi cy fxiinmx sokmkdng fscygs 26. ixygxi gxi gxuuoxi cx n n a isdu vlkwwoxxi.\"\n",
    "\n",
    "transTable = texte.maketrans(\"x u i g c d k s n o v y q f w l m a\", \"e t s l d n i o a r c u p m f h g z\")\n",
    "texte = texte.translate(transTable)\n",
    "print(texte)"
   ]
  },
  {
   "cell_type": "code",
   "execution_count": 218,
   "metadata": {},
   "outputs": [
    {
     "output_type": "execute_result",
     "data": {
      "text/plain": [
       "'\\x02'"
      ]
     },
     "metadata": {},
     "execution_count": 218
    }
   ],
   "source": [
    "# TEXTE 3\n",
    "def decalage(lettre_message,lettre_cle):\n",
    "    \"\"\"Retourne le decalage entre de lettre dans l'alphabet modulo 26\"\"\"\n",
    "    return chr(ord(lettre_message)- ord(lettre_cle) & ((1<<8)- 1))\n",
    "decalage('c', 'a')"
   ]
  },
  {
   "cell_type": "code",
   "execution_count": 220,
   "metadata": {},
   "outputs": [
    {
     "output_type": "stream",
     "name": "stdout",
     "text": [
      "b\nr\na\nv\no\na\nl\na\ni\nd\ne\nd\ne\nl\ni\nn\nd\ni\nc\ne\nv\no\nu\ns\na\nv\ne\n`\nr\ne\nu\ns\ns\ni\na\nc\na\ns\ns\ne\nr\nc\ne\nc\no\nd\ne\ne\nt\na\nf\ni\nn\ni\nr\nc\ne\nd\ne\nv\no\ni\nr\nl\ne\nd\ne\nr\nn\ni\ne\nr\nt\ne\nx\nt\ne\ne\ns\nt\np\no\nu\nr\nl\ne\ns\nb\nr\na\nv\ne\ns\nr\ne\ng\na\nr\nd\ne\n`\nv\no\nu\ns\nd\na\nn\ns\nu\nn\nm\ni\nr\no\ni\nr\n`\nq\nx\no\nh\nb\nq\nr\nd\nl\nx\nw\n"
     ]
    },
    {
     "output_type": "error",
     "ename": "IndexError",
     "evalue": "string index out of range",
     "traceback": [
      "\u001b[1;31m---------------------------------------------------------------------------\u001b[0m",
      "\u001b[1;31mIndexError\u001b[0m                                Traceback (most recent call last)",
      "\u001b[1;32m<ipython-input-220-f956c7ef779f>\u001b[0m in \u001b[0;36m<module>\u001b[1;34m\u001b[0m\n\u001b[0;32m     20\u001b[0m                 \u001b[0mprint\u001b[0m\u001b[1;33m(\u001b[0m\u001b[0md\u001b[0m\u001b[1;33m)\u001b[0m\u001b[1;33m\u001b[0m\u001b[1;33m\u001b[0m\u001b[0m\n\u001b[0;32m     21\u001b[0m \u001b[1;33m\u001b[0m\u001b[0m\n\u001b[1;32m---> 22\u001b[1;33m \u001b[0msubstitution\u001b[0m\u001b[1;33m(\u001b[0m\u001b[1;34m\"dceuq e n ehfp cg p kyhhep uqfw cgiy citudm c gzudiq ni ezhd px c jhptv ep cggsht  kg hdtymdt xdzei gdx rzyq wir mvzxpw  cifcchdb znwd ccyw wy lkcsht dp isgd uqfw wy \"\u001b[0m\u001b[1;33m)\u001b[0m\u001b[1;33m\u001b[0m\u001b[1;33m\u001b[0m\u001b[0m\n\u001b[0m",
      "\u001b[1;32m<ipython-input-220-f956c7ef779f>\u001b[0m in \u001b[0;36msubstitution\u001b[1;34m(texte)\u001b[0m\n\u001b[0;32m     11\u001b[0m                 \u001b[0mb\u001b[0m\u001b[1;33m=\u001b[0m\u001b[0mchr\u001b[0m\u001b[1;33m(\u001b[0m\u001b[1;33m(\u001b[0m\u001b[0mint\u001b[0m\u001b[1;33m(\u001b[0m\u001b[0mord\u001b[0m\u001b[1;33m(\u001b[0m\u001b[0mtexte\u001b[0m\u001b[1;33m[\u001b[0m\u001b[0mi\u001b[0m\u001b[1;33m+\u001b[0m\u001b[1;36m1\u001b[0m\u001b[1;33m]\u001b[0m\u001b[1;33m)\u001b[0m\u001b[1;33m-\u001b[0m\u001b[1;36m96\u001b[0m\u001b[1;33m)\u001b[0m\u001b[1;33m+\u001b[0m \u001b[1;36m15\u001b[0m\u001b[1;33m)\u001b[0m\u001b[1;33m%\u001b[0m\u001b[1;36m26\u001b[0m\u001b[1;33m+\u001b[0m\u001b[1;36m96\u001b[0m\u001b[1;33m)\u001b[0m\u001b[1;33m\u001b[0m\u001b[1;33m\u001b[0m\u001b[0m\n\u001b[0;32m     12\u001b[0m                 \u001b[0mprint\u001b[0m\u001b[1;33m(\u001b[0m\u001b[0mb\u001b[0m\u001b[1;33m)\u001b[0m\u001b[1;33m\u001b[0m\u001b[1;33m\u001b[0m\u001b[0m\n\u001b[1;32m---> 13\u001b[1;33m             \u001b[1;32mif\u001b[0m\u001b[1;33m(\u001b[0m\u001b[0mtexte\u001b[0m\u001b[1;33m[\u001b[0m\u001b[0mi\u001b[0m\u001b[1;33m+\u001b[0m\u001b[1;36m2\u001b[0m\u001b[1;33m]\u001b[0m\u001b[1;33m!=\u001b[0m\u001b[1;34m' '\u001b[0m \u001b[1;32mand\u001b[0m \u001b[0mlen\u001b[0m\u001b[1;33m(\u001b[0m\u001b[0mtexte\u001b[0m\u001b[1;33m)\u001b[0m \u001b[1;33m>=\u001b[0m \u001b[0mi\u001b[0m\u001b[1;33m+\u001b[0m\u001b[1;36m2\u001b[0m\u001b[1;33m)\u001b[0m\u001b[1;33m:\u001b[0m\u001b[1;33m\u001b[0m\u001b[1;33m\u001b[0m\u001b[0m\n\u001b[0m\u001b[0;32m     14\u001b[0m                 \u001b[1;31m# v = 22ème lettre de l'alphabet\u001b[0m\u001b[1;33m\u001b[0m\u001b[1;33m\u001b[0m\u001b[1;33m\u001b[0m\u001b[0m\n\u001b[0;32m     15\u001b[0m                 \u001b[0mc\u001b[0m\u001b[1;33m=\u001b[0m\u001b[0mchr\u001b[0m\u001b[1;33m(\u001b[0m\u001b[1;33m(\u001b[0m\u001b[0mint\u001b[0m\u001b[1;33m(\u001b[0m\u001b[0mord\u001b[0m\u001b[1;33m(\u001b[0m\u001b[0mtexte\u001b[0m\u001b[1;33m[\u001b[0m\u001b[0mi\u001b[0m\u001b[1;33m+\u001b[0m\u001b[1;36m2\u001b[0m\u001b[1;33m]\u001b[0m\u001b[1;33m)\u001b[0m\u001b[1;33m-\u001b[0m\u001b[1;36m96\u001b[0m\u001b[1;33m)\u001b[0m\u001b[1;33m+\u001b[0m \u001b[1;36m22\u001b[0m\u001b[1;33m)\u001b[0m\u001b[1;33m%\u001b[0m\u001b[1;36m26\u001b[0m\u001b[1;33m+\u001b[0m \u001b[1;36m96\u001b[0m\u001b[1;33m)\u001b[0m\u001b[1;33m\u001b[0m\u001b[1;33m\u001b[0m\u001b[0m\n",
      "\u001b[1;31mIndexError\u001b[0m: string index out of range"
     ]
    }
   ],
   "source": [
    "def substitution(texte):\n",
    "    \"\"\"Fonction qui dechiffre le texte avec codé avec le chiffre de Vigenere grace au mot cle xova\"\"\"\n",
    "    for i in range(len(texte)):\n",
    "        if i%4 == 0:\n",
    "            if(texte[i]!=' '):\n",
    "                # x = 24ème lettre de l'alphabet\n",
    "                a= chr((int(ord(texte[i])-96)+ 24)%26+96)\n",
    "                print(a)\n",
    "            if(texte[i+1]!=' ' and  len(texte) >= i+1):\n",
    "                # o = 15ème lettre de l'alphabet\n",
    "                b=chr((int(ord(texte[i+1])-96)+ 15)%26+96)\n",
    "                print(b)\n",
    "            if(texte[i+2]!=' ' and len(texte) >= i+2):\n",
    "                # v = 22ème lettre de l'alphabet\n",
    "                c=chr((int(ord(texte[i+2])-96)+ 22)%26+ 96)\n",
    "                print(c)\n",
    "            if(texte[i+3]!=' ' and len(texte) >= i+3):\n",
    "                # a = 1ère lettre de l'alphabet\n",
    "                d=chr((int(ord(texte[i+3])-96)+ 1)%26 +96)\n",
    "                print(d)\n",
    "\n",
    "substitution(\"dceuq e n ehfp cg p kyhhep uqfw cgiy citudm c gzudiq ni ezhd px c jhptv ep cggsht  kg hdtymdt xdzei gdx rzyq wir mvzxpw  cifcchdb znwd ccyw wy lkcsht dp isgd uqfw wy \")"
   ]
  },
  {
   "cell_type": "code",
   "execution_count": null,
   "metadata": {},
   "outputs": [],
   "source": [
    "# FONCTION QUI REMET LES LETTRES DANS UNE PHRASE\n",
    "texte3 = ()\n",
    "texte.append(i)"
   ]
  },
  {
   "cell_type": "code",
   "execution_count": 246,
   "metadata": {},
   "outputs": [
    {
     "output_type": "execute_result",
     "data": {
      "text/plain": [
       "\"kv qsteiadw qrs gqfmem  zwrno c'rvjmq toirt  cen bizeiw ofimw el Miwjhuz  pvz ysqnvno rbes vdwvr  pdt sdrffj à bvc iy  evvjvdvis hd krjthrlen  kfj vvzjxnzir u'vvffet  et eiy sslfai ev wykmvs  if vjycsrin obj xvdwvr  wzoj neupzr wh ca ptov  nstt sjr grus zji yi uyuii  b ui bpke tnjetp  rj lz rpcedp fjt jqpzd  wh cen pvrtmi trinsmt  nz rpet zqbzmzrs huz pvrtmi  trnn zwfim dtjati  ev ksquvr ymf rjfd  jum kfj bvzous fnvceqeqej\""
      ]
     },
     "metadata": {},
     "execution_count": 246
    }
   ],
   "source": [
    "# TEXTE 4\n",
    "def inverse(texte):\n",
    "    \"\"\"Renvoie une liste dont les éléments sont les éléments de l dans l'ordre inverse\"\"\"\n",
    "    return texte[::-1]\n",
    "\n",
    "inverse(\"jeqeqecvnf suozvb jfk muj  dfjr fmy rvuqsk ve  itajtd mifwz nnrt  imtrvp zuh srzmzbqz tepr zn  tmsnirt imtrvp nec hw  dzpqj tjf pdecpr zl jr  ptejnt ekpb iu b  iiuyu iy ijz surg rjs ttsn  votp ac hw rzpuen jozw  rvwdvx jbo nirscyjv fi  svmkyw ve iaflss yie te  teffvv'u riznxjzvv jfk  nelrhtjrk dh sivdvjvve  yi cvb à jffrds tdp  rvwdv sebr onvnqsy zvp  zuhjwiM le wmifo wiezib nec  triot qmjvr'c onrwz  memfqg srq wdaietsq vk\")"
   ]
  },
  {
   "cell_type": "code",
   "execution_count": null,
   "metadata": {},
   "outputs": [],
   "source": []
  },
  {
   "cell_type": "code",
   "execution_count": 243,
   "metadata": {},
   "outputs": [],
   "source": [
    "def substitution(texte):\n",
    "      for i in range(len(texte)):\n",
    "            if i%4 == 0:\n",
    "                 #print(texte[i])\n",
    "                 #print(int(ord(texte[i]))+ 120%122)\n",
    "                 if(texte[i]!=' '):\n",
    "                     a= chr((int(ord(texte[i])-96)+ %26+96)\n",
    "                     print(a)                           \n",
    "                 #texte[i]= str(a)\n",
    "                 if(texte[i+1]!=' ' and  len(texte) >= i+1):\n",
    "                    b=chr((int(ord(texte[i+1])-96)+ 15)%26+96)\n",
    "                    print(b)                               \n",
    "                 if(texte[i+2]!=' ' and len(texte) >= i+2):\n",
    "                    c=chr((int(ord(texte[i+2])-96)+ 22)%26+ 96)\n",
    "                    print(c)\n",
    "                 if(texte[i+3]!=' ' and len(texte) >= i+3):\n",
    "                    d=chr((int(ord(texte[i+3])-96)+ 1)%26 +96)\n",
    "                    print(d)"
   ]
  },
  {
   "cell_type": "code",
   "execution_count": 244,
   "metadata": {},
   "outputs": [
    {
     "output_type": "stream",
     "name": "stdout",
     "text": [
      "b\nr\na\nv\no\na\nl\na\ni\nd\ne\nd\ne\nl\ni\nn\nd\ni\nc\ne\nv\no\nu\ns\na\nv\ne\n`\nr\ne\nu\ns\ns\ni\na\nc\na\ns\ns\ne\nr\nc\ne\nc\no\nd\ne\ne\nt\na\nf\ni\nn\ni\nr\nc\ne\nd\ne\nv\no\ni\nr\nl\ne\nd\ne\nr\nn\ni\ne\nr\nt\ne\nx\nt\ne\ne\ns\nt\np\no\nu\nr\nl\ne\ns\nb\nr\na\nv\ne\ns\nr\ne\ng\na\nr\nd\ne\n`\nv\no\nu\ns\nd\na\nn\ns\nu\nn\nm\ni\nr\no\ni\nr\ne\nn\ne\nt\ne\ns\nv\no\nu\ns\nu\nn\n"
     ]
    },
    {
     "output_type": "error",
     "ename": "IndexError",
     "evalue": "string index out of range",
     "traceback": [
      "\u001b[1;31m---------------------------------------------------------------------------\u001b[0m",
      "\u001b[1;31mIndexError\u001b[0m                                Traceback (most recent call last)",
      "\u001b[1;32m<ipython-input-244-8f07b08d485a>\u001b[0m in \u001b[0;36m<module>\u001b[1;34m\u001b[0m\n\u001b[1;32m----> 1\u001b[1;33m \u001b[0msubstitution\u001b[0m\u001b[1;33m(\u001b[0m\u001b[1;34m\"dceuq e n ehfp cg p kyhhep uqfw cgiy citudm c gzudiq ni ezhd px c jhptv ep cggsht  kg hdtymdt xdzei gdx rzyq wir mvzxpw  cifcchdb znwd ccyw wy lkcsht  dp isgd uqfw wy\"\u001b[0m\u001b[1;33m)\u001b[0m\u001b[1;33m\u001b[0m\u001b[1;33m\u001b[0m\u001b[0m\n\u001b[0m",
      "\u001b[1;32m<ipython-input-243-accf452abbe5>\u001b[0m in \u001b[0;36msubstitution\u001b[1;34m(texte)\u001b[0m\n\u001b[0;32m     11\u001b[0m                     \u001b[0mb\u001b[0m\u001b[1;33m=\u001b[0m\u001b[0mchr\u001b[0m\u001b[1;33m(\u001b[0m\u001b[1;33m(\u001b[0m\u001b[0mint\u001b[0m\u001b[1;33m(\u001b[0m\u001b[0mord\u001b[0m\u001b[1;33m(\u001b[0m\u001b[0mtexte\u001b[0m\u001b[1;33m[\u001b[0m\u001b[0mi\u001b[0m\u001b[1;33m+\u001b[0m\u001b[1;36m1\u001b[0m\u001b[1;33m]\u001b[0m\u001b[1;33m)\u001b[0m\u001b[1;33m-\u001b[0m\u001b[1;36m96\u001b[0m\u001b[1;33m)\u001b[0m\u001b[1;33m+\u001b[0m \u001b[1;36m15\u001b[0m\u001b[1;33m)\u001b[0m\u001b[1;33m%\u001b[0m\u001b[1;36m26\u001b[0m\u001b[1;33m+\u001b[0m\u001b[1;36m96\u001b[0m\u001b[1;33m)\u001b[0m\u001b[1;33m\u001b[0m\u001b[1;33m\u001b[0m\u001b[0m\n\u001b[0;32m     12\u001b[0m                     \u001b[0mprint\u001b[0m\u001b[1;33m(\u001b[0m\u001b[0mb\u001b[0m\u001b[1;33m)\u001b[0m\u001b[1;33m\u001b[0m\u001b[1;33m\u001b[0m\u001b[0m\n\u001b[1;32m---> 13\u001b[1;33m                  \u001b[1;32mif\u001b[0m\u001b[1;33m(\u001b[0m\u001b[0mtexte\u001b[0m\u001b[1;33m[\u001b[0m\u001b[0mi\u001b[0m\u001b[1;33m+\u001b[0m\u001b[1;36m2\u001b[0m\u001b[1;33m]\u001b[0m\u001b[1;33m!=\u001b[0m\u001b[1;34m' '\u001b[0m \u001b[1;32mand\u001b[0m \u001b[0mlen\u001b[0m\u001b[1;33m(\u001b[0m\u001b[0mtexte\u001b[0m\u001b[1;33m)\u001b[0m \u001b[1;33m>=\u001b[0m \u001b[0mi\u001b[0m\u001b[1;33m+\u001b[0m\u001b[1;36m2\u001b[0m\u001b[1;33m)\u001b[0m\u001b[1;33m:\u001b[0m\u001b[1;33m\u001b[0m\u001b[1;33m\u001b[0m\u001b[0m\n\u001b[0m\u001b[0;32m     14\u001b[0m                     \u001b[0mc\u001b[0m\u001b[1;33m=\u001b[0m\u001b[0mchr\u001b[0m\u001b[1;33m(\u001b[0m\u001b[1;33m(\u001b[0m\u001b[0mint\u001b[0m\u001b[1;33m(\u001b[0m\u001b[0mord\u001b[0m\u001b[1;33m(\u001b[0m\u001b[0mtexte\u001b[0m\u001b[1;33m[\u001b[0m\u001b[0mi\u001b[0m\u001b[1;33m+\u001b[0m\u001b[1;36m2\u001b[0m\u001b[1;33m]\u001b[0m\u001b[1;33m)\u001b[0m\u001b[1;33m-\u001b[0m\u001b[1;36m96\u001b[0m\u001b[1;33m)\u001b[0m\u001b[1;33m+\u001b[0m \u001b[1;36m22\u001b[0m\u001b[1;33m)\u001b[0m\u001b[1;33m%\u001b[0m\u001b[1;36m26\u001b[0m\u001b[1;33m+\u001b[0m \u001b[1;36m96\u001b[0m\u001b[1;33m)\u001b[0m\u001b[1;33m\u001b[0m\u001b[1;33m\u001b[0m\u001b[0m\n\u001b[0;32m     15\u001b[0m                     \u001b[0mprint\u001b[0m\u001b[1;33m(\u001b[0m\u001b[0mc\u001b[0m\u001b[1;33m)\u001b[0m\u001b[1;33m\u001b[0m\u001b[1;33m\u001b[0m\u001b[0m\n",
      "\u001b[1;31mIndexError\u001b[0m: string index out of range"
     ]
    }
   ],
   "source": [
    "substitution(\"dceuq e n ehfp cg p kyhhep uqfw cgiy citudm c gzudiq ni ezhd px c jhptv ep cggsht  kg hdtymdt xdzei gdx rzyq wir mvzxpw  cifcchdb znwd ccyw wy lkcsht  dp isgd uqfw wy\")"
   ]
  },
  {
   "cell_type": "code",
   "execution_count": null,
   "metadata": {},
   "outputs": [],
   "source": []
  }
 ],
 "metadata": {
  "kernelspec": {
   "name": "python39264bit034f72824dc34857a10fea398c4605f2",
   "display_name": "Python 3.9.2 64-bit",
   "language": "python"
  },
  "language_info": {
   "codemirror_mode": {
    "name": "ipython",
    "version": 3
   },
   "file_extension": ".py",
   "mimetype": "text/x-python",
   "name": "python",
   "nbconvert_exporter": "python",
   "pygments_lexer": "ipython3",
   "version": "3.9.5"
  },
  "metadata": {
   "interpreter": {
    "hash": "d865875ba38f6aebd840bb439951d857e65de436a61f8b0d44ab5d062c13a747"
   }
  }
 },
 "nbformat": 4,
 "nbformat_minor": 2
}